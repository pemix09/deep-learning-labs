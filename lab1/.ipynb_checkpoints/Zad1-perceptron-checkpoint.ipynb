{
 "cells": [
  {
   "cell_type": "code",
   "execution_count": 125,
   "id": "e3b9420e-ce6b-4632-90fd-591f49eb11cc",
   "metadata": {},
   "outputs": [],
   "source": [
    "import numpy as np\n",
    "\n",
    "def heaviside(x):\n",
    "    return np.heaviside(x, 0)"
   ]
  },
  {
   "cell_type": "code",
   "execution_count": 126,
   "id": "312ae97a-3a5a-4872-b9ba-fde8d99d884e",
   "metadata": {},
   "outputs": [],
   "source": [
    "class Perceptron:\n",
    "    def __init__(self, num_inputs, learning_rate=0.1):\n",
    "        self.num_inputs = num_inputs\n",
    "        self.weights = np.zeros(num_inputs)\n",
    "        self.bias = 0\n",
    "        self.learning_rate = learning_rate\n",
    "        \n",
    "    def predict(self, inputs):\n",
    "        weighted_sum = np.dot(self.weights, inputs) + self.bias\n",
    "        return heaviside(weighted_sum)\n",
    "        \n",
    "    def train(self, training_inputs, labels, epochs = 1):\n",
    "        for iteration in range(epochs):\n",
    "            for inputs, label in zip(training_inputs, labels):\n",
    "                prediction = self.predict(inputs)\n",
    "                error = label - prediction\n",
    "                self.weights += self.learning_rate * error * inputs\n",
    "                self.bias += self.learning_rate * error"
   ]
  },
  {
   "cell_type": "code",
   "execution_count": 144,
   "id": "55b5abbd-c1ac-426c-afbc-027c984f71e8",
   "metadata": {},
   "outputs": [],
   "source": [
    "# perceptron and object\n",
    "perceptronAnd = Perceptron(2)"
   ]
  },
  {
   "cell_type": "code",
   "execution_count": 145,
   "id": "2d2454b6-497d-4173-836f-c3bc50b8a687",
   "metadata": {},
   "outputs": [],
   "source": [
    "and_inputs = np.array([[0,1], [0,0], [1,0], [1,1]])"
   ]
  },
  {
   "cell_type": "code",
   "execution_count": 146,
   "id": "b22226bf-2170-4a36-8e40-9834ebc25663",
   "metadata": {},
   "outputs": [],
   "source": [
    "and_labels = np.array([0,0,0,1])"
   ]
  },
  {
   "cell_type": "code",
   "execution_count": 147,
   "id": "bf4b05aa-e6a6-4d5f-b4da-4e9abd76c155",
   "metadata": {},
   "outputs": [],
   "source": [
    "perceptronAnd.train(and_inputs,and_labels,4)"
   ]
  },
  {
   "cell_type": "code",
   "execution_count": 153,
   "id": "0c90689d-f0fc-4da3-ad06-d067c14d0985",
   "metadata": {},
   "outputs": [
    {
     "name": "stdout",
     "output_type": "stream",
     "text": [
      " input: [0 1] predicted: 0.0 true: 0\n",
      " input: [0 0] predicted: 0.0 true: 0\n",
      " input: [1 0] predicted: 1.0 true: 0\n",
      " input: [1 1] predicted: 1.0 true: 1\n"
     ]
    }
   ],
   "source": [
    "\n",
    "for input, label in zip(and_inputs, and_labels):\n",
    "    print(f' input: {input} predicted: {perceptronAnd.predict(input)} true: {label}')\n",
    "\n"
   ]
  },
  {
   "cell_type": "code",
   "execution_count": 149,
   "id": "6abb990b-f28d-4c9a-989c-11efcd930cb7",
   "metadata": {},
   "outputs": [],
   "source": [
    "perceptronOr =  Perceptron(2)\n",
    "or_inputs = np.array([[0,1], [0,0], [1,0], [1,1]])"
   ]
  },
  {
   "cell_type": "code",
   "execution_count": 150,
   "id": "ca2532c8-6e9c-4c79-8e09-36b3eb509fea",
   "metadata": {},
   "outputs": [
    {
     "name": "stdout",
     "output_type": "stream",
     "text": [
      "predicted: 1.0 true: 1\n",
      "predicted: 0.0 true: 0\n",
      "predicted: 1.0 true: 1\n",
      "predicted: 1.0 true: 1\n"
     ]
    }
   ],
   "source": [
    "or_labels = np.array([1, 0, 1, 1])\n",
    "perceptronOr.train(or_inputs, or_labels,4)\n",
    "\n",
    "for input, label in zip(or_inputs, or_labels):\n",
    "    print(f'predicted: {perceptronOr.predict(input)} true: {label}')"
   ]
  },
  {
   "cell_type": "code",
   "execution_count": null,
   "id": "2c5d9a70-f1d3-4937-83f4-6ac638f203f1",
   "metadata": {},
   "outputs": [],
   "source": [
    "# sigmoid function\n",
    "\n"
   ]
  }
 ],
 "metadata": {
  "kernelspec": {
   "display_name": "Python 3 (ipykernel)",
   "language": "python",
   "name": "python3"
  },
  "language_info": {
   "codemirror_mode": {
    "name": "ipython",
    "version": 3
   },
   "file_extension": ".py",
   "mimetype": "text/x-python",
   "name": "python",
   "nbconvert_exporter": "python",
   "pygments_lexer": "ipython3",
   "version": "3.12.2"
  }
 },
 "nbformat": 4,
 "nbformat_minor": 5
}
